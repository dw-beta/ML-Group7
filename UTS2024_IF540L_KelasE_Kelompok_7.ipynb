{
 "cells": [
  {
   "cell_type": "markdown",
   "id": "5ffb6ee5",
   "metadata": {},
   "source": [
    "## <div align=\"center\"> UJIAN TENGAH SEMESTER IF540-L MACHINE LEARNING </div>\n",
    "## <div align=\"center\"> Semester Gasal 2024/2025 </div>\n",
    "## <div align=\"center\"> Penerapan Recurrent Neural Network untuk Analisis Sentimen di Sosial Media X </div>"
   ]
  },
  {
   "cell_type": "markdown",
   "id": "d4aa3c83",
   "metadata": {},
   "source": [
    "---\n",
    "### Kelompok - 7\n",
    "\n",
    "#### Anggota Kelompok : \n",
    "1. Leonardo Tyoes Huibu - 00000065503\n",
    "2. Dylan William - 00000067644\n",
    "3. Eduardus Farrel Tirtawinata - 00000069931\n",
    "4. Emanuel Bernandhika Dwi Friskola - 00000077703\n"
   ]
  },
  {
   "cell_type": "markdown",
   "id": "969da47d",
   "metadata": {},
   "source": [
    "---\n",
    "\n",
    "### Dataset yang digunakan untuk projek:\n",
    "\n",
    "1. [Sentiment140 dataset with 1.6 million tweets – sumber : https://www.kaggle.com/datasets/kazanova/sentiment140\n",
    "\n",
    "### Hasil kerja"
   ]
  },
  {
   "cell_type": "markdown",
   "id": "9d2af949-ae4a-4fa0-8220-e463d0dbc6bc",
   "metadata": {},
   "source": [
    "#### Column Names\n",
    "##### 1. target: the polarity of the tweet (0 = negative, 2 = neutral, 4 = positive)\n",
    "##### 2. text: the text of the tweet"
   ]
  },
  {
   "cell_type": "code",
   "execution_count": 4,
   "id": "38cf589a",
   "metadata": {},
   "outputs": [],
   "source": [
    "import pandas as pd\n",
    "\n",
    "# Define column names\n",
    "column_names = ['target', 'text']\n",
    "\n",
    "# Read Excel file\n",
    "df = pd.read_excel('tweets_trimmed.xlsx', names=column_names)\n",
    "\n",
    "# Check for missing values\n",
    "missing_values = df.isnull().sum()\n",
    "print(missing_values)  # No missing values\n",
    "\n",
    "# Drop unneeded columns/features\n",
    "df = df[['target', 'text']]\n",
    "\n",
    "# Display the first few rows\n",
    "df.head()\n"
   ]
  },
  {
   "cell_type": "code",
   "execution_count": null,
   "id": "4399d582",
   "metadata": {},
   "outputs": [],
   "source": [
    "from nltk.tokenize import word_tokenize\n",
    "import nltk\n",
    "nltk.download('punkt')  # Download necessary data\n",
    "df['tokenized_text'] = df['text'].apply(word_tokenize)"
   ]
  },
  {
   "cell_type": "code",
   "execution_count": 1,
   "id": "ff04aba1",
   "metadata": {},
   "outputs": [
    {
     "name": "stderr",
     "output_type": "stream",
     "text": [
      "[NbConvertApp] Converting notebook ./UTS2024_IF540L_KelasE_Kelompok_7.ipynb to html\n",
      "[NbConvertApp] Writing 274232 bytes to UTS2024_IF540L_KelasE_Kelompok_7.html\n"
     ]
    }
   ],
   "source": [
    "!jupyter nbconvert --to html \"./UTS2024_IF540L_KelasE_Kelompok_7.ipynb\" --output-dir=\"./\""
   ]
  },
  {
   "cell_type": "markdown",
   "id": "0d142d46",
   "metadata": {},
   "source": [
    "### Next step:\n",
    "* convert the generated html file to PDF using the online tool: https://www.sejda.com/html-to-pdf\n",
    "* choose the following settings:\n",
    "    * Page size: One long page\n",
    "    * Page Orientation: auto\n",
    "    * Use print stylesheet\n",
    "* Submit your ipython notebook and PDF files\n",
    "\n",
    "Markdown basics https://markdown-guide.readthedocs.io/en/latest/basics.html#"
   ]
  }
 ],
 "metadata": {
  "kernelspec": {
   "display_name": "Python 3 (ipykernel)",
   "language": "python",
   "name": "python3"
  },
  "language_info": {
   "codemirror_mode": {
    "name": "ipython",
    "version": 3
   },
   "file_extension": ".py",
   "mimetype": "text/x-python",
   "name": "python",
   "nbconvert_exporter": "python",
   "pygments_lexer": "ipython3",
   "version": "3.12.3"
  }
 },
 "nbformat": 4,
 "nbformat_minor": 5
}
