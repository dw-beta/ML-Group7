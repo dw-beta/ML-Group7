{
 "cells": [
  {
   "cell_type": "markdown",
   "id": "5ffb6ee5",
   "metadata": {},
   "source": [
    "## <div align=\"center\"> UJIAN TENGAH SEMESTER IF540-L MACHINE LEARNING </div>\n",
    "## <div align=\"center\"> Semester Gasal 2024/2025 </div>\n",
    "## <div align=\"center\"> [Judul Proyek] </div>"
   ]
  },
  {
   "cell_type": "markdown",
   "id": "d4aa3c83",
   "metadata": {},
   "source": [
    "---\n",
    "### Kelompok - 7\n",
    "\n",
    "#### Anggota Kelompok : \n",
    "1. Leonardo Tyoes Huibu - 00000065503\n",
    "2. Dylan William - 00000067644\n",
    "3. Eduardus Farrel Tirtawinata - 00000069931\n",
    "4. Emanuel Bernandhika Dwi Friskola - 00000077703\n"
   ]
  },
  {
   "cell_type": "markdown",
   "id": "969da47d",
   "metadata": {},
   "source": [
    "---\n",
    "\n",
    "### Dataset yang digunakan untuk projek:\n",
    "\n",
    "1. [Sentiment140 dataset with 1.6 million tweets – sumber : https://www.kaggle.com/datasets/kazanova/sentiment140\n",
    "\n",
    "### Hasil kerja"
   ]
  },
  {
   "cell_type": "code",
   "execution_count": null,
   "id": "38cf589a",
   "metadata": {},
   "outputs": [],
   "source": [
    "# Your codes are here (replace the following codes)\n",
    "import time\n",
    "time.sleep(10)"
   ]
  },
  {
   "cell_type": "code",
   "execution_count": 1,
   "id": "ff04aba1",
   "metadata": {},
   "outputs": [
    {
     "name": "stderr",
     "output_type": "stream",
     "text": [
      "[NbConvertApp] Converting notebook ./UTS2024_IF540L_KelasE_Kelompok_7.ipynb to html\n",
      "[NbConvertApp] Writing 274232 bytes to UTS2024_IF540L_KelasE_Kelompok_7.html\n"
     ]
    }
   ],
   "source": [
    "!jupyter nbconvert --to html \"./UTS2024_IF540L_KelasE_Kelompok_7.ipynb\" --output-dir=\"./\""
   ]
  },
  {
   "cell_type": "markdown",
   "id": "0d142d46",
   "metadata": {},
   "source": [
    "### Next step:\n",
    "* convert the generated html file to PDF using the online tool: https://www.sejda.com/html-to-pdf\n",
    "* choose the following settings:\n",
    "    * Page size: One long page\n",
    "    * Page Orientation: auto\n",
    "    * Use print stylesheet\n",
    "* Submit your ipython notebook and PDF files\n",
    "\n",
    "Markdown basics https://markdown-guide.readthedocs.io/en/latest/basics.html#"
   ]
  }
 ],
 "metadata": {
  "kernelspec": {
   "display_name": "Python 3 (ipykernel)",
   "language": "python",
   "name": "python3"
  },
  "language_info": {
   "codemirror_mode": {
    "name": "ipython",
    "version": 3
   },
   "file_extension": ".py",
   "mimetype": "text/x-python",
   "name": "python",
   "nbconvert_exporter": "python",
   "pygments_lexer": "ipython3",
   "version": "3.12.5"
  }
 },
 "nbformat": 4,
 "nbformat_minor": 5
}
